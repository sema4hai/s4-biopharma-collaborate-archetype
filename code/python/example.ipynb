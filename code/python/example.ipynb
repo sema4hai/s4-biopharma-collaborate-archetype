{
 "cells": [
  {
   "cell_type": "code",
   "execution_count": 1,
   "id": "b074d15a-c5ce-47b2-852c-f11b60f63192",
   "metadata": {},
   "outputs": [
    {
     "name": "stdout",
     "output_type": "stream",
     "text": [
      "hello from Jupyter, running inside a docker container\n"
     ]
    }
   ],
   "source": [
    "print('hello from Jupyter, running inside a docker container')"
   ]
  }
 ],
 "metadata": {
  "kernelspec": {
   "display_name": "Python 3 (ipykernel)",
   "language": "python",
   "name": "python3"
  },
  "language_info": {
   "codemirror_mode": {
    "name": "ipython",
    "version": 3
   },
   "file_extension": ".py",
   "mimetype": "text/x-python",
   "name": "python",
   "nbconvert_exporter": "python",
   "pygments_lexer": "ipython3",
   "version": "3.9.7"
  }
 },
 "nbformat": 4,
 "nbformat_minor": 5
}
